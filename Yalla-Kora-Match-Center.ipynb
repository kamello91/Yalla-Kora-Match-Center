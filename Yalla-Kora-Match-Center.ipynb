{
 "cells": [
  {
   "cell_type": "code",
   "execution_count": 1,
   "id": "f5cbd4c8",
   "metadata": {},
   "outputs": [],
   "source": [
    "from bs4 import BeautifulSoup\n",
    "import requests\n",
    "import csv"
   ]
  },
  {
   "cell_type": "code",
   "execution_count": 2,
   "id": "747f0479",
   "metadata": {},
   "outputs": [
    {
     "name": "stdout",
     "output_type": "stream",
     "text": [
      "please enter the date ? (MM/DD/YYYY)12/30/2022\n"
     ]
    }
   ],
   "source": [
    "Date = input('please enter the date ? (MM/DD/YYYY)')\n",
    "url = requests.get(f'https://www.yallakora.com/match-center/%D9%85%D8%B1%D9%83%D8%B2-%D8%A7%D9%84%D9%85%D8%A8%D8%A7%D8%B1%D9%8A%D8%A7%D8%AA?date={Date}#days')"
   ]
  },
  {
   "cell_type": "code",
   "execution_count": 4,
   "id": "46fc94a6",
   "metadata": {},
   "outputs": [
    {
     "name": "stdout",
     "output_type": "stream",
     "text": [
      "file created\n"
     ]
    }
   ],
   "source": [
    "def main(url):\n",
    "    src = url.content\n",
    "    soup = BeautifulSoup(src,'lxml')\n",
    "    matches_list = []\n",
    "    championships = soup.find_all('div',{'class' : 'matchCard'})\n",
    "    def info(championships):\n",
    "        \n",
    "        #championship_title\n",
    "        championship_title = championships.contents[1].find('h2').text.strip()\n",
    "        \n",
    "        #matches_info\n",
    "        matches = championships.contents[3].find_all('li')\n",
    "        num_matches = len(matches)\n",
    "        \n",
    "        #Get_teams\n",
    "        for i in range (num_matches):\n",
    "            \n",
    "            teamA = matches[i].find('div',{'class' : 'teamA'}).text.strip()\n",
    "            teamB = matches[i].find('div',{'class' : 'teamB'}).text.strip()\n",
    "            \n",
    "            #Get_score \n",
    "            result = matches[i].find('div',{'class' : 'MResult'}).find_all('span', {'class' : 'score'})\n",
    "            score = f'{result[0].text.strip()} : {result[1].text.strip()}'\n",
    "            \n",
    "            #Get_time\n",
    "            time = matches[i].find('div',{'class' : 'MResult'}).find('span', {'class' : 'time'}).text.strip()\n",
    "            \n",
    "            #Get_week\n",
    "            week = matches[i].find('div',{'class' : 'date'}).text.strip()\n",
    "            \n",
    "            #List_append            \n",
    "            matches_list.append({'اسم البطولة' : championship_title,\n",
    "                                'الفريق الاول' : teamA,\n",
    "                                'الفريق الثاني' : teamB,\n",
    "                                 'النتيجة' :score,\n",
    "                                'الوقت'     : time,\n",
    "                                'الاسبوع' : week,})\n",
    "\n",
    "    for i in range(len(championships)) :\n",
    "        info(championships[i])\n",
    "    \n",
    "    \n",
    "    keys = matches_list[0].keys()\n",
    "    \n",
    "    with open('yalla-kora.csv','w',encoding=\"utf-8\") as file :\n",
    "        dict_writer = csv.DictWriter(file, keys)\n",
    "        dict_writer.writeheader()\n",
    "        dict_writer.writerows(matches_list)\n",
    "        print('file created')\n",
    "main(url)"
   ]
  },
  {
   "cell_type": "code",
   "execution_count": null,
   "id": "a402551e",
   "metadata": {},
   "outputs": [],
   "source": []
  }
 ],
 "metadata": {
  "kernelspec": {
   "display_name": "Python 3 (ipykernel)",
   "language": "python",
   "name": "python3"
  },
  "language_info": {
   "codemirror_mode": {
    "name": "ipython",
    "version": 3
   },
   "file_extension": ".py",
   "mimetype": "text/x-python",
   "name": "python",
   "nbconvert_exporter": "python",
   "pygments_lexer": "ipython3",
   "version": "3.9.13"
  }
 },
 "nbformat": 4,
 "nbformat_minor": 5
}
